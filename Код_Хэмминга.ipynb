{
  "nbformat": 4,
  "nbformat_minor": 0,
  "metadata": {
    "colab": {
      "provenance": [],
      "collapsed_sections": []
    },
    "kernelspec": {
      "name": "python3",
      "display_name": "Python 3"
    },
    "language_info": {
      "name": "python"
    }
  },
  "cells": [
    {
      "cell_type": "markdown",
      "source": [
        "## Программа кода Хэмминга"
      ],
      "metadata": {
        "id": "9UJxBZ86JehN"
      }
    },
    {
      "cell_type": "code",
      "source": [
        "a='0123456789'\n",
        "nums=list(a)\n",
        "print(nums)"
      ],
      "metadata": {
        "id": "GSEg8iVLJBGm",
        "colab": {
          "base_uri": "https://localhost:8080/"
        },
        "outputId": "3935401e-4613-430e-8585-f1eaad943d84"
      },
      "execution_count": null,
      "outputs": [
        {
          "output_type": "stream",
          "name": "stdout",
          "text": [
            "['0', '1', '2', '3', '4', '5', '6', '7', '8', '9']\n"
          ]
        }
      ]
    },
    {
      "cell_type": "code",
      "source": [
        "b='0000000 0001111 0010110 0011001 000101 0101010 0110011 0111100 1000011 1001100'\n",
        "hem=b.split()\n",
        "print(hem)\n",
        "for i in range(len(hem)):\n",
        "  hem[i]=int(hem[i])\n",
        "print(hem)"
      ],
      "metadata": {
        "id": "KmIfJScwJrqN",
        "colab": {
          "base_uri": "https://localhost:8080/"
        },
        "outputId": "4a197c79-b5f1-48be-84d0-4a1c4f2ddfd8"
      },
      "execution_count": null,
      "outputs": [
        {
          "output_type": "stream",
          "name": "stdout",
          "text": [
            "['0000000', '0001111', '0010110', '0011001', '000101', '0101010', '0110011', '0111100', '1000011', '1001100']\n",
            "[0, 1111, 10110, 11001, 101, 101010, 110011, 111100, 1000011, 1001100]\n"
          ]
        }
      ]
    },
    {
      "cell_type": "code",
      "source": [
        "def distance(x,y):\n",
        "  k=7\n",
        "  for i in range(7):\n",
        "    if x%10==y%10:\n",
        "      k=k-1\n",
        "    x=x//10\n",
        "    y=y//10\n",
        "  return k"
      ],
      "metadata": {
        "id": "mZpdQrFsJfkf"
      },
      "execution_count": null,
      "outputs": []
    },
    {
      "cell_type": "code",
      "source": [
        "cod=int(input(\"код\"))"
      ],
      "metadata": {
        "colab": {
          "base_uri": "https://localhost:8080/"
        },
        "id": "NFQ5I_V9L8eh",
        "outputId": "a215a4a6-02c6-4a64-e987-eae6062c691a"
      },
      "execution_count": null,
      "outputs": [
        {
          "name": "stdout",
          "output_type": "stream",
          "text": [
            "код1001100\n"
          ]
        }
      ]
    },
    {
      "cell_type": "code",
      "source": [
        "min=distance(cod,hem[0])\n",
        "imin=0\n",
        "for i in range(10):\n",
        "  D=distance(cod,hem[i])\n",
        "  if D<min:\n",
        "    min=D\n",
        "    imin=i  "
      ],
      "metadata": {
        "id": "CyFuLpeMMHv_"
      },
      "execution_count": null,
      "outputs": []
    },
    {
      "cell_type": "code",
      "source": [
        "if min==0:\n",
        "  print(f\"код верный: символ {nums[imin]}\")\n",
        "elif min==1:\n",
        "  print(f\"код исправлен: символ {nums[imin]}\")\n",
        "else:print(\"Код неверный\")"
      ],
      "metadata": {
        "colab": {
          "base_uri": "https://localhost:8080/"
        },
        "id": "wC4kAq6gMtsd",
        "outputId": "e9e22f56-c719-42e7-d9df-cb5c1af9d0f0"
      },
      "execution_count": null,
      "outputs": [
        {
          "output_type": "stream",
          "name": "stdout",
          "text": [
            "код верный: символ 9\n"
          ]
        }
      ]
    }
  ]
}